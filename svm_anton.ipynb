{
 "cells": [
  {
   "cell_type": "code",
   "execution_count": 1,
   "metadata": {},
   "outputs": [],
   "source": [
    "# Импортирование данных\n",
    "import pandas as pd\n",
    "import numpy as np\n",
    "import seaborn as sns\n",
    "url = 'http://archive.ics.uci.edu/ml/machine-learning-databases/flags/flag.data'"
   ]
  },
  {
   "cell_type": "code",
   "execution_count": 2,
   "metadata": {},
   "outputs": [],
   "source": [
    "# Извлечение данных в датафрейм\n",
    "df_flags = pd.read_csv(url)"
   ]
  },
  {
   "cell_type": "code",
   "execution_count": 3,
   "metadata": {},
   "outputs": [
    {
     "data": {
      "text/html": [
       "<div>\n",
       "<style scoped>\n",
       "    .dataframe tbody tr th:only-of-type {\n",
       "        vertical-align: middle;\n",
       "    }\n",
       "\n",
       "    .dataframe tbody tr th {\n",
       "        vertical-align: top;\n",
       "    }\n",
       "\n",
       "    .dataframe thead th {\n",
       "        text-align: right;\n",
       "    }\n",
       "</style>\n",
       "<table border=\"1\" class=\"dataframe\">\n",
       "  <thead>\n",
       "    <tr style=\"text-align: right;\">\n",
       "      <th></th>\n",
       "      <th>name</th>\n",
       "      <th>landmass</th>\n",
       "      <th>zone</th>\n",
       "      <th>area</th>\n",
       "      <th>population</th>\n",
       "      <th>lang</th>\n",
       "      <th>religion</th>\n",
       "      <th>bars</th>\n",
       "      <th>stripes</th>\n",
       "      <th>colours</th>\n",
       "      <th>...</th>\n",
       "      <th>saltires</th>\n",
       "      <th>quartets</th>\n",
       "      <th>sunstars</th>\n",
       "      <th>crescent</th>\n",
       "      <th>triangle</th>\n",
       "      <th>icon</th>\n",
       "      <th>animate</th>\n",
       "      <th>text</th>\n",
       "      <th>topleft</th>\n",
       "      <th>botright</th>\n",
       "    </tr>\n",
       "  </thead>\n",
       "  <tbody>\n",
       "    <tr>\n",
       "      <th>0</th>\n",
       "      <td>Albania</td>\n",
       "      <td>3</td>\n",
       "      <td>1</td>\n",
       "      <td>29</td>\n",
       "      <td>3</td>\n",
       "      <td>6</td>\n",
       "      <td>6</td>\n",
       "      <td>0</td>\n",
       "      <td>0</td>\n",
       "      <td>3</td>\n",
       "      <td>...</td>\n",
       "      <td>0</td>\n",
       "      <td>0</td>\n",
       "      <td>1</td>\n",
       "      <td>0</td>\n",
       "      <td>0</td>\n",
       "      <td>0</td>\n",
       "      <td>1</td>\n",
       "      <td>0</td>\n",
       "      <td>red</td>\n",
       "      <td>red</td>\n",
       "    </tr>\n",
       "    <tr>\n",
       "      <th>1</th>\n",
       "      <td>Algeria</td>\n",
       "      <td>4</td>\n",
       "      <td>1</td>\n",
       "      <td>2388</td>\n",
       "      <td>20</td>\n",
       "      <td>8</td>\n",
       "      <td>2</td>\n",
       "      <td>2</td>\n",
       "      <td>0</td>\n",
       "      <td>3</td>\n",
       "      <td>...</td>\n",
       "      <td>0</td>\n",
       "      <td>0</td>\n",
       "      <td>1</td>\n",
       "      <td>1</td>\n",
       "      <td>0</td>\n",
       "      <td>0</td>\n",
       "      <td>0</td>\n",
       "      <td>0</td>\n",
       "      <td>green</td>\n",
       "      <td>white</td>\n",
       "    </tr>\n",
       "    <tr>\n",
       "      <th>2</th>\n",
       "      <td>American-Samoa</td>\n",
       "      <td>6</td>\n",
       "      <td>3</td>\n",
       "      <td>0</td>\n",
       "      <td>0</td>\n",
       "      <td>1</td>\n",
       "      <td>1</td>\n",
       "      <td>0</td>\n",
       "      <td>0</td>\n",
       "      <td>5</td>\n",
       "      <td>...</td>\n",
       "      <td>0</td>\n",
       "      <td>0</td>\n",
       "      <td>0</td>\n",
       "      <td>0</td>\n",
       "      <td>1</td>\n",
       "      <td>1</td>\n",
       "      <td>1</td>\n",
       "      <td>0</td>\n",
       "      <td>blue</td>\n",
       "      <td>red</td>\n",
       "    </tr>\n",
       "    <tr>\n",
       "      <th>3</th>\n",
       "      <td>Andorra</td>\n",
       "      <td>3</td>\n",
       "      <td>1</td>\n",
       "      <td>0</td>\n",
       "      <td>0</td>\n",
       "      <td>6</td>\n",
       "      <td>0</td>\n",
       "      <td>3</td>\n",
       "      <td>0</td>\n",
       "      <td>3</td>\n",
       "      <td>...</td>\n",
       "      <td>0</td>\n",
       "      <td>0</td>\n",
       "      <td>0</td>\n",
       "      <td>0</td>\n",
       "      <td>0</td>\n",
       "      <td>0</td>\n",
       "      <td>0</td>\n",
       "      <td>0</td>\n",
       "      <td>blue</td>\n",
       "      <td>red</td>\n",
       "    </tr>\n",
       "    <tr>\n",
       "      <th>4</th>\n",
       "      <td>Angola</td>\n",
       "      <td>4</td>\n",
       "      <td>2</td>\n",
       "      <td>1247</td>\n",
       "      <td>7</td>\n",
       "      <td>10</td>\n",
       "      <td>5</td>\n",
       "      <td>0</td>\n",
       "      <td>2</td>\n",
       "      <td>3</td>\n",
       "      <td>...</td>\n",
       "      <td>0</td>\n",
       "      <td>0</td>\n",
       "      <td>1</td>\n",
       "      <td>0</td>\n",
       "      <td>0</td>\n",
       "      <td>1</td>\n",
       "      <td>0</td>\n",
       "      <td>0</td>\n",
       "      <td>red</td>\n",
       "      <td>black</td>\n",
       "    </tr>\n",
       "  </tbody>\n",
       "</table>\n",
       "<p>5 rows × 30 columns</p>\n",
       "</div>"
      ],
      "text/plain": [
       "             name  landmass  zone  area  population  lang  religion  bars  \\\n",
       "0         Albania         3     1    29           3     6         6     0   \n",
       "1         Algeria         4     1  2388          20     8         2     2   \n",
       "2  American-Samoa         6     3     0           0     1         1     0   \n",
       "3         Andorra         3     1     0           0     6         0     3   \n",
       "4          Angola         4     2  1247           7    10         5     0   \n",
       "\n",
       "   stripes  colours  ...  saltires  quartets  sunstars  crescent  triangle  \\\n",
       "0        0        3  ...         0         0         1         0         0   \n",
       "1        0        3  ...         0         0         1         1         0   \n",
       "2        0        5  ...         0         0         0         0         1   \n",
       "3        0        3  ...         0         0         0         0         0   \n",
       "4        2        3  ...         0         0         1         0         0   \n",
       "\n",
       "   icon  animate text  topleft  botright  \n",
       "0     0        1    0      red       red  \n",
       "1     0        0    0    green     white  \n",
       "2     1        1    0     blue       red  \n",
       "3     0        0    0     blue       red  \n",
       "4     1        0    0      red     black  \n",
       "\n",
       "[5 rows x 30 columns]"
      ]
     },
     "execution_count": 3,
     "metadata": {},
     "output_type": "execute_result"
    }
   ],
   "source": [
    "# Присваивание имен колонкам \n",
    "columns = ['name', 'landmass', 'zone', \n",
    "           'area', 'population', 'lang', 'religion',\n",
    "          'bars', 'stripes', 'colours', 'red',\n",
    "          'green', 'blue', 'gold', 'white',\n",
    "          'black', 'orange', 'mainhue', 'cicrles',\n",
    "          'crosses', 'saltires', 'quartets', 'sunstars', 'crescent',\n",
    "          'triangle', 'icon', 'animate', 'text',\n",
    "          'topleft', 'botright']\n",
    "df_flags.columns = columns\n",
    "df_flags.head()"
   ]
  },
  {
   "cell_type": "code",
   "execution_count": 4,
   "metadata": {},
   "outputs": [],
   "source": [
    "# Присваивание переменной targets целевых значений\n",
    "targets = df_flags.landmass\n",
    "# Извлечение из выборки целевых значений и колонки name, так как она не имеет значения в классификации\n",
    "data = df_flags.drop(['landmass'], axis=1)\n",
    "data = df_flags.drop(['name'], axis=1)"
   ]
  },
  {
   "cell_type": "code",
   "execution_count": 5,
   "metadata": {},
   "outputs": [
    {
     "data": {
      "text/html": [
       "<div>\n",
       "<style scoped>\n",
       "    .dataframe tbody tr th:only-of-type {\n",
       "        vertical-align: middle;\n",
       "    }\n",
       "\n",
       "    .dataframe tbody tr th {\n",
       "        vertical-align: top;\n",
       "    }\n",
       "\n",
       "    .dataframe thead th {\n",
       "        text-align: right;\n",
       "    }\n",
       "</style>\n",
       "<table border=\"1\" class=\"dataframe\">\n",
       "  <thead>\n",
       "    <tr style=\"text-align: right;\">\n",
       "      <th></th>\n",
       "      <th>landmass</th>\n",
       "      <th>zone</th>\n",
       "      <th>area</th>\n",
       "      <th>population</th>\n",
       "      <th>lang</th>\n",
       "      <th>religion</th>\n",
       "      <th>bars</th>\n",
       "      <th>stripes</th>\n",
       "      <th>colours</th>\n",
       "      <th>red</th>\n",
       "      <th>...</th>\n",
       "      <th>saltires</th>\n",
       "      <th>quartets</th>\n",
       "      <th>sunstars</th>\n",
       "      <th>crescent</th>\n",
       "      <th>triangle</th>\n",
       "      <th>icon</th>\n",
       "      <th>animate</th>\n",
       "      <th>text</th>\n",
       "      <th>topleft</th>\n",
       "      <th>botright</th>\n",
       "    </tr>\n",
       "  </thead>\n",
       "  <tbody>\n",
       "    <tr>\n",
       "      <th>0</th>\n",
       "      <td>3</td>\n",
       "      <td>1</td>\n",
       "      <td>29</td>\n",
       "      <td>3</td>\n",
       "      <td>6</td>\n",
       "      <td>6</td>\n",
       "      <td>0</td>\n",
       "      <td>0</td>\n",
       "      <td>3</td>\n",
       "      <td>1</td>\n",
       "      <td>...</td>\n",
       "      <td>0</td>\n",
       "      <td>0</td>\n",
       "      <td>1</td>\n",
       "      <td>0</td>\n",
       "      <td>0</td>\n",
       "      <td>0</td>\n",
       "      <td>1</td>\n",
       "      <td>0</td>\n",
       "      <td>1</td>\n",
       "      <td>1</td>\n",
       "    </tr>\n",
       "    <tr>\n",
       "      <th>1</th>\n",
       "      <td>4</td>\n",
       "      <td>1</td>\n",
       "      <td>2388</td>\n",
       "      <td>20</td>\n",
       "      <td>8</td>\n",
       "      <td>2</td>\n",
       "      <td>2</td>\n",
       "      <td>0</td>\n",
       "      <td>3</td>\n",
       "      <td>1</td>\n",
       "      <td>...</td>\n",
       "      <td>0</td>\n",
       "      <td>0</td>\n",
       "      <td>1</td>\n",
       "      <td>1</td>\n",
       "      <td>0</td>\n",
       "      <td>0</td>\n",
       "      <td>0</td>\n",
       "      <td>0</td>\n",
       "      <td>2</td>\n",
       "      <td>2</td>\n",
       "    </tr>\n",
       "    <tr>\n",
       "      <th>2</th>\n",
       "      <td>6</td>\n",
       "      <td>3</td>\n",
       "      <td>0</td>\n",
       "      <td>0</td>\n",
       "      <td>1</td>\n",
       "      <td>1</td>\n",
       "      <td>0</td>\n",
       "      <td>0</td>\n",
       "      <td>5</td>\n",
       "      <td>1</td>\n",
       "      <td>...</td>\n",
       "      <td>0</td>\n",
       "      <td>0</td>\n",
       "      <td>0</td>\n",
       "      <td>0</td>\n",
       "      <td>1</td>\n",
       "      <td>1</td>\n",
       "      <td>1</td>\n",
       "      <td>0</td>\n",
       "      <td>3</td>\n",
       "      <td>1</td>\n",
       "    </tr>\n",
       "    <tr>\n",
       "      <th>3</th>\n",
       "      <td>3</td>\n",
       "      <td>1</td>\n",
       "      <td>0</td>\n",
       "      <td>0</td>\n",
       "      <td>6</td>\n",
       "      <td>0</td>\n",
       "      <td>3</td>\n",
       "      <td>0</td>\n",
       "      <td>3</td>\n",
       "      <td>1</td>\n",
       "      <td>...</td>\n",
       "      <td>0</td>\n",
       "      <td>0</td>\n",
       "      <td>0</td>\n",
       "      <td>0</td>\n",
       "      <td>0</td>\n",
       "      <td>0</td>\n",
       "      <td>0</td>\n",
       "      <td>0</td>\n",
       "      <td>3</td>\n",
       "      <td>1</td>\n",
       "    </tr>\n",
       "    <tr>\n",
       "      <th>4</th>\n",
       "      <td>4</td>\n",
       "      <td>2</td>\n",
       "      <td>1247</td>\n",
       "      <td>7</td>\n",
       "      <td>10</td>\n",
       "      <td>5</td>\n",
       "      <td>0</td>\n",
       "      <td>2</td>\n",
       "      <td>3</td>\n",
       "      <td>1</td>\n",
       "      <td>...</td>\n",
       "      <td>0</td>\n",
       "      <td>0</td>\n",
       "      <td>1</td>\n",
       "      <td>0</td>\n",
       "      <td>0</td>\n",
       "      <td>1</td>\n",
       "      <td>0</td>\n",
       "      <td>0</td>\n",
       "      <td>1</td>\n",
       "      <td>3</td>\n",
       "    </tr>\n",
       "  </tbody>\n",
       "</table>\n",
       "<p>5 rows × 29 columns</p>\n",
       "</div>"
      ],
      "text/plain": [
       "   landmass  zone  area  population  lang  religion  bars  stripes  colours  \\\n",
       "0         3     1    29           3     6         6     0        0        3   \n",
       "1         4     1  2388          20     8         2     2        0        3   \n",
       "2         6     3     0           0     1         1     0        0        5   \n",
       "3         3     1     0           0     6         0     3        0        3   \n",
       "4         4     2  1247           7    10         5     0        2        3   \n",
       "\n",
       "   red  ...  saltires  quartets  sunstars  crescent  triangle  icon  animate  \\\n",
       "0    1  ...         0         0         1         0         0     0        1   \n",
       "1    1  ...         0         0         1         1         0     0        0   \n",
       "2    1  ...         0         0         0         0         1     1        1   \n",
       "3    1  ...         0         0         0         0         0     0        0   \n",
       "4    1  ...         0         0         1         0         0     1        0   \n",
       "\n",
       "   text  topleft  botright  \n",
       "0     0        1         1  \n",
       "1     0        2         2  \n",
       "2     0        3         1  \n",
       "3     0        3         1  \n",
       "4     0        1         3  \n",
       "\n",
       "[5 rows x 29 columns]"
      ]
     },
     "execution_count": 5,
     "metadata": {},
     "output_type": "execute_result"
    }
   ],
   "source": [
    "# Присваивание строковым значениям соответствующие числовые значения\n",
    "topleft = {'red': 1,'green': 2,'blue': 3,'white': 4,'black': 5,\n",
    "         'orange': 6, 'gold': 7} \n",
    "botright = {'red': 1,'white': 2,'black': 3,'blue': 4,'green': 5,\n",
    "         'orange': 6, 'gold': 7, 'brown': 8} \n",
    "mainhue = {'red': 1,'green': 2,'blue': 3,'gold': 4,\n",
    "           'white': 5,'orange': 5,\n",
    "         'black': 6, 'brown': 7} \n",
    "data.topleft = [topleft[item] for item in data.topleft]\n",
    "data.botright = [botright[item] for item in data.botright]\n",
    "data.mainhue = [mainhue[item] for item in data.mainhue]\n",
    "new_data = data\n",
    "new_data.head()"
   ]
  },
  {
   "cell_type": "code",
   "execution_count": 6,
   "metadata": {},
   "outputs": [],
   "source": [
    "from sklearn.preprocessing import StandardScaler\n",
    "from sklearn.model_selection import train_test_split\n",
    "# Приведение датафрейма к массиву numpy (необходимо для последующего использования UMAP)\n",
    "X = data.to_numpy()\n",
    "y = targets.to_numpy()\n",
    "# Нормализация данных (приведение всех значений к значениям в диапазоне от 0 до 1)\n",
    "X = StandardScaler().fit_transform(X)\n",
    "# Разделение на тестовую и тренировочную выборки\n",
    "X_train, X_test, y_train, y_test = train_test_split(X, \n",
    "                                                    y, test_size=0.2,random_state=20)"
   ]
  },
  {
   "cell_type": "code",
   "execution_count": 7,
   "metadata": {},
   "outputs": [
    {
     "data": {
      "text/plain": [
       "SVC(C=1.0, cache_size=200, class_weight=None, coef0=0.0,\n",
       "    decision_function_shape='ovr', degree=3, gamma='auto', kernel='rbf',\n",
       "    max_iter=-1, probability=False, random_state=None, shrinking=True,\n",
       "    tol=0.001, verbose=False)"
      ]
     },
     "execution_count": 7,
     "metadata": {},
     "output_type": "execute_result"
    }
   ],
   "source": [
    "from sklearn.svm import SVC\n",
    "svc_model = SVC(gamma='auto')\n",
    "svc_model.fit(X_train, y_train)"
   ]
  },
  {
   "cell_type": "code",
   "execution_count": 8,
   "metadata": {},
   "outputs": [],
   "source": [
    "from sklearn.metrics import classification_report, confusion_matrix\n",
    "y_predict = svc_model.predict(X_test)\n",
    "cm = confusion_matrix(y_test, y_predict)"
   ]
  },
  {
   "cell_type": "code",
   "execution_count": 9,
   "metadata": {},
   "outputs": [
    {
     "data": {
      "text/html": [
       "<div>\n",
       "<style scoped>\n",
       "    .dataframe tbody tr th:only-of-type {\n",
       "        vertical-align: middle;\n",
       "    }\n",
       "\n",
       "    .dataframe tbody tr th {\n",
       "        vertical-align: top;\n",
       "    }\n",
       "\n",
       "    .dataframe thead th {\n",
       "        text-align: right;\n",
       "    }\n",
       "</style>\n",
       "<table border=\"1\" class=\"dataframe\">\n",
       "  <thead>\n",
       "    <tr style=\"text-align: right;\">\n",
       "      <th></th>\n",
       "      <th>predicted N.America</th>\n",
       "      <th>predicted S.America</th>\n",
       "      <th>predicted Europe</th>\n",
       "      <th>predicted Africa</th>\n",
       "      <th>predicted Asia</th>\n",
       "      <th>predicted Oceania</th>\n",
       "    </tr>\n",
       "  </thead>\n",
       "  <tbody>\n",
       "    <tr>\n",
       "      <th>N.America</th>\n",
       "      <td>4</td>\n",
       "      <td>0</td>\n",
       "      <td>0</td>\n",
       "      <td>0</td>\n",
       "      <td>0</td>\n",
       "      <td>0</td>\n",
       "    </tr>\n",
       "    <tr>\n",
       "      <th>S.America</th>\n",
       "      <td>2</td>\n",
       "      <td>0</td>\n",
       "      <td>0</td>\n",
       "      <td>0</td>\n",
       "      <td>1</td>\n",
       "      <td>0</td>\n",
       "    </tr>\n",
       "    <tr>\n",
       "      <th>Europe</th>\n",
       "      <td>1</td>\n",
       "      <td>0</td>\n",
       "      <td>7</td>\n",
       "      <td>2</td>\n",
       "      <td>0</td>\n",
       "      <td>0</td>\n",
       "    </tr>\n",
       "    <tr>\n",
       "      <th>Africa</th>\n",
       "      <td>0</td>\n",
       "      <td>0</td>\n",
       "      <td>1</td>\n",
       "      <td>7</td>\n",
       "      <td>4</td>\n",
       "      <td>0</td>\n",
       "    </tr>\n",
       "    <tr>\n",
       "      <th>Asia</th>\n",
       "      <td>0</td>\n",
       "      <td>0</td>\n",
       "      <td>0</td>\n",
       "      <td>3</td>\n",
       "      <td>4</td>\n",
       "      <td>0</td>\n",
       "    </tr>\n",
       "    <tr>\n",
       "      <th>Oceania</th>\n",
       "      <td>0</td>\n",
       "      <td>0</td>\n",
       "      <td>0</td>\n",
       "      <td>1</td>\n",
       "      <td>0</td>\n",
       "      <td>2</td>\n",
       "    </tr>\n",
       "  </tbody>\n",
       "</table>\n",
       "</div>"
      ],
      "text/plain": [
       "           predicted N.America  predicted S.America  predicted Europe  \\\n",
       "N.America                    4                    0                 0   \n",
       "S.America                    2                    0                 0   \n",
       "Europe                       1                    0                 7   \n",
       "Africa                       0                    0                 1   \n",
       "Asia                         0                    0                 0   \n",
       "Oceania                      0                    0                 0   \n",
       "\n",
       "           predicted Africa  predicted Asia  predicted Oceania  \n",
       "N.America                 0               0                  0  \n",
       "S.America                 0               1                  0  \n",
       "Europe                    2               0                  0  \n",
       "Africa                    7               4                  0  \n",
       "Asia                      3               4                  0  \n",
       "Oceania                   1               0                  2  "
      ]
     },
     "execution_count": 9,
     "metadata": {},
     "output_type": "execute_result"
    }
   ],
   "source": [
    "cm = np.array(confusion_matrix(y_test, y_predict, labels=[1,2,3,4,5,6]))\n",
    "confusion = pd.DataFrame(cm, index = ['N.America', 'S.America', \n",
    "                                      'Europe', 'Africa', 'Asia',\n",
    "                                     'Oceania'], \n",
    "                         columns = ['predicted N.America', \n",
    "                                    'predicted S.America', \n",
    "                                      'predicted Europe', \n",
    "                                    'predicted Africa',\n",
    "                                    'predicted Asia',\n",
    "                                     'predicted Oceania'])\n",
    "confusion"
   ]
  },
  {
   "cell_type": "code",
   "execution_count": 10,
   "metadata": {},
   "outputs": [
    {
     "name": "stdout",
     "output_type": "stream",
     "text": [
      "              precision    recall  f1-score   support\n",
      "\n",
      "           1       0.57      1.00      0.73         4\n",
      "           2       0.00      0.00      0.00         3\n",
      "           3       0.88      0.70      0.78        10\n",
      "           4       0.54      0.58      0.56        12\n",
      "           5       0.44      0.57      0.50         7\n",
      "           6       1.00      0.67      0.80         3\n",
      "\n",
      "    accuracy                           0.62        39\n",
      "   macro avg       0.57      0.59      0.56        39\n",
      "weighted avg       0.61      0.62      0.60        39\n",
      "\n"
     ]
    }
   ],
   "source": [
    "import warnings\n",
    "warnings.filterwarnings('ignore')\n",
    "print(classification_report(y_test, y_predict))"
   ]
  },
  {
   "cell_type": "code",
   "execution_count": 11,
   "metadata": {},
   "outputs": [
    {
     "name": "stdout",
     "output_type": "stream",
     "text": [
      "Accuracy: 0.6153846153846154\n"
     ]
    }
   ],
   "source": [
    "from sklearn import metrics\n",
    "print(\"Accuracy:\",metrics.accuracy_score(y_test, y_predict))"
   ]
  },
  {
   "cell_type": "code",
   "execution_count": 12,
   "metadata": {},
   "outputs": [
    {
     "name": "stdout",
     "output_type": "stream",
     "text": [
      "Accuracy: 0.8974358974358975\n"
     ]
    }
   ],
   "source": [
    "C = 1.0\n",
    "svc = SVC(kernel='linear', C=C)\n",
    "svc.fit(X_train, y_train)\n",
    "y_pred = svc.predict(X_test)\n",
    "print(\"Accuracy:\",metrics.accuracy_score(y_test, y_pred))"
   ]
  },
  {
   "cell_type": "code",
   "execution_count": 13,
   "metadata": {},
   "outputs": [
    {
     "name": "stdout",
     "output_type": "stream",
     "text": [
      "Accuracy: 0.3333333333333333\n"
     ]
    }
   ],
   "source": [
    "rbf_svc = SVC(kernel='rbf', gamma=0.7, C=C)\n",
    "rbf_svc.fit(X_train, y_train)\n",
    "y_pred = rbf_svc.predict(X_test)\n",
    "print(\"Accuracy:\",metrics.accuracy_score(y_test, y_pred))"
   ]
  },
  {
   "cell_type": "code",
   "execution_count": 14,
   "metadata": {},
   "outputs": [
    {
     "name": "stdout",
     "output_type": "stream",
     "text": [
      "Accuracy: 0.5897435897435898\n"
     ]
    }
   ],
   "source": [
    "poly_svc = SVC(kernel='poly', degree=3, C=C,  gamma=0.7)\n",
    "poly_svc.fit(X_train, y_train)\n",
    "y_pred = poly_svc.predict(X_test)\n",
    "print(\"Accuracy:\",metrics.accuracy_score(y_test, y_pred))"
   ]
  },
  {
   "cell_type": "code",
   "execution_count": 15,
   "metadata": {},
   "outputs": [],
   "source": [
    "from umap import UMAP\n",
    "from sklearn.preprocessing import StandardScaler\n",
    "import pylab as pl\n",
    "\n",
    "umap_train = UMAP(n_components=2, n_neighbors=5).fit_transform(X_train)\n",
    "# X_train = umap_train.transform(X_train)\n",
    "umap_test = UMAP(n_components=2, n_neighbors=5).fit_transform(X_test)\n",
    "# X_test = umap_train.transform(X_test)\n",
    "\n",
    "rbf_model = SVC(kernel='rbf', gamma=0.7, C=C)\n",
    "rbf_model.fit(umap_train, y_train)\n",
    "\n",
    "poly_model = SVC(kernel='poly', degree=3, C=C,  gamma=0.7)\n",
    "poly_model.fit(umap_train, y_train)\n",
    "\n",
    "linear_model = SVC(kernel='linear', C=C)\n",
    "linear_model.fit(umap_train, y_train)\n",
    "\n",
    "x_min, x_max = umap_train[:, 0].min() - 1,   umap_train[:,0].max() + 1\n",
    "y_min, y_max = umap_train[:, 1].min() - 1,   umap_train[:, 1].max() + 1\n",
    "xx, yy = np.meshgrid(np.arange(x_min, x_max, .01),   np.arange(y_min, y_max, .01))"
   ]
  },
  {
   "cell_type": "code",
   "execution_count": 16,
   "metadata": {},
   "outputs": [
    {
     "name": "stdout",
     "output_type": "stream",
     "text": [
      "Accuracy: 0.3076923076923077\n"
     ]
    }
   ],
   "source": [
    "# После использования UMAP на всех моделях наблюдается сильное снижение точности\n",
    "y_pred = rbf_model.predict(umap_test)\n",
    "print(\"Accuracy:\", metrics.accuracy_score(y_test, y_pred))"
   ]
  },
  {
   "cell_type": "code",
   "execution_count": 17,
   "metadata": {},
   "outputs": [
    {
     "name": "stdout",
     "output_type": "stream",
     "text": [
      "Accuracy: 0.10256410256410256\n"
     ]
    }
   ],
   "source": [
    "y_pred = poly_model.predict(umap_test)\n",
    "print(\"Accuracy:\", metrics.accuracy_score(y_test, y_pred))"
   ]
  },
  {
   "cell_type": "code",
   "execution_count": 18,
   "metadata": {},
   "outputs": [
    {
     "name": "stdout",
     "output_type": "stream",
     "text": [
      "Accuracy: 0.3076923076923077\n"
     ]
    }
   ],
   "source": [
    "y_pred = linear_model.predict(umap_test)\n",
    "print(\"Accuracy:\", metrics.accuracy_score(y_test, y_pred))"
   ]
  },
  {
   "cell_type": "code",
   "execution_count": 19,
   "metadata": {},
   "outputs": [
    {
     "data": {
      "image/png": "[encoded data removed]",
      "text/plain": [
       "<Figure size 1152x864 with 1 Axes>"
      ]
     },
     "metadata": {},
     "output_type": "display_data"
    }
   ],
   "source": [
    "for i, clf in enumerate((rbf_model,)):\n",
    "#     pl.subplot(2, 2, i + 1)\n",
    "    pl.figure(1, figsize=(16, 12))\n",
    "    Z = clf.predict(np.c_[xx.ravel(), yy.ravel()])\n",
    "    Z = Z.reshape(xx.shape)\n",
    "    pl.contourf(xx, yy, Z, cmap=pl.cm.coolwarm, alpha=0.8)\n",
    "\n",
    "# Plot also the training points\n",
    "    pl.scatter(umap_train[:, 0], umap_train[:, 1], c=y_train, cmap=pl.cm.coolwarm)\n",
    "    pl.xlabel('Component 1')\n",
    "    pl.ylabel('Component 2')\n",
    "    pl.xlim(xx.min(), xx.max())\n",
    "    pl.ylim(yy.min(), yy.max())\n",
    "    pl.xticks(())\n",
    "    pl.yticks(())\n",
    "    pl.show()"
   ]
  },
  {
   "cell_type": "code",
   "execution_count": 20,
   "metadata": {},
   "outputs": [
    {
     "data": {
      "image/png": "[encoded data removed]",
      "text/plain": [
       "<Figure size 1152x864 with 1 Axes>"
      ]
     },
     "metadata": {},
     "output_type": "display_data"
    }
   ],
   "source": [
    "for i, clf in enumerate((poly_model,)):\n",
    "#     pl.subplot(2, 2, i + 1)\n",
    "    pl.figure(1, figsize=(16, 12))\n",
    "    Z = clf.predict(np.c_[xx.ravel(), yy.ravel()])\n",
    "    Z = Z.reshape(xx.shape)\n",
    "    pl.contourf(xx, yy, Z, cmap=pl.cm.coolwarm, alpha=0.8)\n",
    "\n",
    "# Plot also the training points\n",
    "    pl.scatter(umap_train[:, 0], umap_train[:, 1], c=y_train, cmap=pl.cm.coolwarm)\n",
    "    pl.xlabel('Component 1')\n",
    "    pl.ylabel('Component 2')\n",
    "    pl.xlim(xx.min(), xx.max())\n",
    "    pl.ylim(yy.min(), yy.max())\n",
    "    pl.xticks(())\n",
    "    pl.yticks(())\n",
    "    pl.show()"
   ]
  },
  {
   "cell_type": "code",
   "execution_count": 21,
   "metadata": {},
   "outputs": [
    {
     "data": {
      "image/png": "[encoded data removed]",
      "text/plain": [
       "<Figure size 1152x864 with 1 Axes>"
      ]
     },
     "metadata": {},
     "output_type": "display_data"
    }
   ],
   "source": [
    "for i, clf in enumerate((linear_model,)):\n",
    "#     pl.subplot(2, 2, i + 1)\n",
    "    pl.figure(1, figsize=(16, 12))\n",
    "    Z = clf.predict(np.c_[xx.ravel(), yy.ravel()])\n",
    "    Z = Z.reshape(xx.shape)\n",
    "    pl.contourf(xx, yy, Z, cmap=pl.cm.coolwarm, alpha=0.8)\n",
    "\n",
    "# Plot also the training points\n",
    "    pl.scatter(umap_train[:, 0], umap_train[:, 1], c=y_train, cmap=pl.cm.coolwarm)\n",
    "    pl.xlabel('Component 1')\n",
    "    pl.ylabel('Component 2')\n",
    "    pl.xlim(xx.min(), xx.max())\n",
    "    pl.ylim(yy.min(), yy.max())\n",
    "    pl.xticks(())\n",
    "    pl.yticks(())\n",
    "    pl.show()"
   ]
  }
 ],
 "metadata": {
  "kernelspec": {
   "display_name": "Python 3",
   "language": "python",
   "name": "python3"
  },
  "language_info": {
   "codemirror_mode": {
    "name": "ipython",
    "version": 3
   },
   "file_extension": ".py",
   "mimetype": "text/x-python",
   "name": "python",
   "nbconvert_exporter": "python",
   "pygments_lexer": "ipython3",
   "version": "3.6.9"
  }
 },
 "nbformat": 4,
 "nbformat_minor": 2
}
